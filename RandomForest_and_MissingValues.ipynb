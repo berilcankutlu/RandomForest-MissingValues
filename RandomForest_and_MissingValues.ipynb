{
  "nbformat": 4,
  "nbformat_minor": 0,
  "metadata": {
    "colab": {
      "provenance": [],
      "authorship_tag": "ABX9TyNiiuIb2GpcczoxwXFK+H22",
      "include_colab_link": true
    },
    "kernelspec": {
      "name": "python3",
      "display_name": "Python 3"
    },
    "language_info": {
      "name": "python"
    }
  },
  "cells": [
    {
      "cell_type": "markdown",
      "metadata": {
        "id": "view-in-github",
        "colab_type": "text"
      },
      "source": [
        "<a href=\"https://colab.research.google.com/github/berilcankutlu/RandomForest-MissingValues/blob/main/RandomForest_and_MissingValues.ipynb\" target=\"_parent\"><img src=\"https://colab.research.google.com/assets/colab-badge.svg\" alt=\"Open In Colab\"/></a>"
      ]
    },
    {
      "cell_type": "markdown",
      "source": [
        "# RandomForestRegressor ve Missing Values\n"
      ],
      "metadata": {
        "id": "nwwe7J4VHfCb"
      }
    },
    {
      "cell_type": "markdown",
      "source": [
        "### 1. Gerekli Kütüphanelerin Yüklenmesi\n"
      ],
      "metadata": {
        "id": "UQyCmPRkYlc9"
      }
    },
    {
      "cell_type": "code",
      "source": [
        "# Veri işleme, model eğitimi ve değerlendirme için gerekli kütüphanelerin yüklenmesi\n",
        "import pandas as pd\n",
        "import numpy as np\n",
        "from sklearn.ensemble import RandomForestRegressor\n",
        "from sklearn.model_selection import train_test_split\n",
        "from sklearn.preprocessing import LabelEncoder\n",
        "from sklearn.metrics import mean_absolute_error, mean_squared_error, r2_score"
      ],
      "metadata": {
        "id": "9WWhhojJYCZU"
      },
      "execution_count": null,
      "outputs": []
    },
    {
      "cell_type": "markdown",
      "source": [
        "### 2. Verinin Okunması ve İlk İnceleme\n"
      ],
      "metadata": {
        "id": "9u-mVJcTYmcA"
      }
    },
    {
      "cell_type": "code",
      "source": [
        "# Pandas ayarları değiştirilerek veri setindeki tüm sütunların ve satırların görülmesi\n",
        "pd.set_option('display.max_columns', None)\n",
        "pd.set_option('display.width', None)\n",
        "pd.set_option('display.max_rows', 20)\n",
        "pd.set_option('display.float_format', lambda x: '%.3f' % x)\n",
        "\n",
        "# Excel dosyasından veri okunması\n",
        "dfd = pd.read_excel(\"veri.xlsx\", sheet_name=\"sheet\")\n",
        "\n",
        "# Orijinal veri setini korumak için bir kopya oluşturulması\n",
        "df = dfd.copy()"
      ],
      "metadata": {
        "id": "rWz3O1ZcYESg"
      },
      "execution_count": null,
      "outputs": []
    },
    {
      "cell_type": "markdown",
      "source": [
        "### 3. Veri Keşfi (EDA - Exploratory Data Analysis)\n"
      ],
      "metadata": {
        "id": "Tbsj0FMhYoqn"
      }
    },
    {
      "cell_type": "code",
      "source": [
        "# Veri setinin temel bilgilerini görüntülemek için fonksiyon tanımlanması\n",
        "def check_df(dataframe, head=5):\n",
        "    print(\"##################### Shape #####################\")\n",
        "    print(dataframe.shape)\n",
        "    print(\"##################### Types #####################\")\n",
        "    print(dataframe.dtypes)\n",
        "    print(\"##################### Head #####################\")\n",
        "    print(dataframe.head(head))\n",
        "    print(\"##################### Tail #####################\")\n",
        "    print(dataframe.tail(head))\n",
        "    print(\"##################### NA #####################\")\n",
        "    print(dataframe.isnull().sum())\n",
        "\n",
        "check_df(df)"
      ],
      "metadata": {
        "id": "Eb4u-sTbYHkY"
      },
      "execution_count": null,
      "outputs": []
    },
    {
      "cell_type": "markdown",
      "source": [
        "### 4. Veri Temizleme ve Dönüştürme\n"
      ],
      "metadata": {
        "id": "6UIWg5r5Yqtg"
      }
    },
    {
      "cell_type": "code",
      "source": [
        "# 'Ana K.N.' sütunu yalnızca sayısal değerlere sahip olacak şekilde filtrelenmesi\n",
        "df = dfd[pd.to_numeric(dfd['Ana K.N.'], errors='coerce').notna()]\n",
        "# Eğer tüm değerler tam sayıysa int türüne çevrilmesi ve sıralanması\n",
        "df['Ana K.N.'] = df['Ana K.N.'].astype(int)\n",
        "df = df.sort_values(by='Ana K.N.', ascending=True)"
      ],
      "metadata": {
        "id": "yHfSoYnxYLzA"
      },
      "execution_count": null,
      "outputs": []
    },
    {
      "cell_type": "markdown",
      "source": [
        "### 5. Pivot İşlemi\n"
      ],
      "metadata": {
        "id": "dAau--2gYsuD"
      }
    },
    {
      "cell_type": "code",
      "source": [
        "# Pivot işlemi ve yeni kolonların isimlendirilmesi\n",
        "df = df.pivot(index=['Ana K.N.', 'K.K.N', 'Doğ. Tar.', 'Ana yaşı', 'D', 'C'],\n",
        "                     columns='int', values='CA')\n",
        "\n",
        "df.columns = [f'CA_{col}' for col in df.columns]\n",
        "df.reset_index(inplace=True)"
      ],
      "metadata": {
        "id": "xg2YqDSlYNXR"
      },
      "execution_count": null,
      "outputs": []
    },
    {
      "cell_type": "markdown",
      "source": [
        "### 6. Tarihsel Bilgilerin Ayrıştırılması\n"
      ],
      "metadata": {
        "id": "YhrWOrK3YvXo"
      }
    },
    {
      "cell_type": "code",
      "source": [
        "df[\"Yıl\"] = df[\"Doğ. Tar.\"].dt.year\n",
        "df[\"Ay\"] = df[\"Doğ. Tar.\"].dt.month\n",
        "df[\"Gün\"] = df[\"Doğ. Tar.\"].dt.day"
      ],
      "metadata": {
        "id": "r8cFsmIgYPL6"
      },
      "execution_count": null,
      "outputs": []
    },
    {
      "cell_type": "markdown",
      "source": [
        "### 7. CA Değerleri Arasındaki Farkların Hesaplanması\n"
      ],
      "metadata": {
        "id": "MTloWwQ7YxUp"
      }
    },
    {
      "cell_type": "code",
      "source": [
        "# Belli günler arasındaki CA değer farkları hesaplanması\n",
        "df[\"CA_diff_30_1\"] = df[\"CA_30\"] - df[\"CA_1\"]\n",
        "df[\"CA_diff_60_30\"] = df[\"CA_60\"] - df[\"CA_30\"]\n",
        "df[\"CA_diff_90_60\"] = df[\"CA_90\"] - df[\"CA_60\"]\n",
        "df[\"CA_diff_180_90\"] = df[\"CA_180\"] - df[\"CA_90\"]\n",
        "\n",
        "# Eksik değer içeren satırlar kaldırılması\n",
        "df.dropna(subset=[\"CA_diff_30_1\", \"CA_diff_60_30\", \"CA_diff_90_60\", \"CA_diff_180_90\"], inplace=True)"
      ],
      "metadata": {
        "id": "0RPfPJCWYQxx"
      },
      "execution_count": null,
      "outputs": []
    },
    {
      "cell_type": "markdown",
      "source": [
        "### 8. Logaritmik Dönüşüm\n"
      ],
      "metadata": {
        "id": "_CC8waW9YzMq"
      }
    },
    {
      "cell_type": "code",
      "source": [
        "# Belirli sütunlar için log(1 + x) dönüşümü yapılması\n",
        "cols_to_transform = [\"CA_1\", \"CA_30\", \"CA_60\", \"CA_90\", \"CA_180\"]\n",
        "for col in cols_to_transform:\n",
        "    df[f\"log_{col}\"] = np.log1p(df[col])"
      ],
      "metadata": {
        "id": "pKPDQZ6lYS4v"
      },
      "execution_count": null,
      "outputs": []
    },
    {
      "cell_type": "markdown",
      "source": [
        "### 9. Kategorik ve Sayısal Değişkenlerin Belirlenmesi\n"
      ],
      "metadata": {
        "id": "-DfGBtTLbCkX"
      }
    },
    {
      "cell_type": "code",
      "source": [
        "# Veri setindeki kategorik ve sayısal değişkenler belirlenmesi\n",
        "def grab_col_names(df, cat_th=10, car_th=20):\n",
        "    \"\"\"\n",
        "\n",
        "    Veri setindeki kategorik, numerik ve kategorik fakat kardinal değişkenlerin isimlerini verir.\n",
        "    Not: Kategorik değişkenlerin içerisine numerik görünümlü kategorik değişkenler de dahildir.\n",
        "\n",
        "    Parameters\n",
        "    ------\n",
        "        dataframe: dataframe\n",
        "                Değişken isimleri alınmak istenilen dataframe\n",
        "        cat_th: int, optional\n",
        "                numerik fakat kategorik olan değişkenler için sınıf eşik değeri\n",
        "        car_th: int, optional\n",
        "                kategorik fakat kardinal değişkenler için sınıf eşik değeri\n",
        "\n",
        "    Returns\n",
        "    ------\n",
        "        cat_cols: list\n",
        "                Kategorik değişken listesi\n",
        "        num_cols: list\n",
        "                Numerik değişken listesi\n",
        "        cat_but_car: list\n",
        "                Kategorik görünümlü kardinal değişken listesi\n",
        "\n",
        "    Examples\n",
        "    ------\n",
        "        import seaborn as sns\n",
        "        df = sns.load_dataset(\"iris\")\n",
        "        print(grab_col_names(df))\n",
        "\n",
        "\n",
        "    Notes\n",
        "    ------\n",
        "        cat_cols + num_cols + cat_but_car = toplam değişken sayısı\n",
        "        num_but_cat cat_cols'un içerisinde.\n",
        "\n",
        "    \"\"\"\n",
        "    cat_cols = [col for col in df.columns if df[col].dtypes=='0']\n",
        "    num_but_cat = [col for col in df.columns if df[col].nunique() < cat_th and df[col].dtypes != '0']\n",
        "    cat_but_car = [col for col in df.columns if df[col].nunique() > car_th and df[col].dtypes == '0']\n",
        "\n",
        "    cat_cols = cat_cols + num_but_cat\n",
        "    cat_cols = [col for col in cat_cols if col not in cat_but_car]\n",
        "\n",
        "    num_cols = [col for col in df.columns if df[col].dtypes!='0']\n",
        "    num_cols = [col for col in num_cols if col not in num_but_cat]\n",
        "\n",
        "    print(f\"Observations: {df.shape[0]}\")\n",
        "    print(f\"Variables : {df.shape[1]}\")\n",
        "    print(f\"cat_cols : {len(cat_cols)}\")\n",
        "    print(f\"num_cols : {len(num_cols)}\")\n",
        "    print(f\"cat_but_car : {len(cat_but_car)}\")\n",
        "    print(f\"num_but_cat : {len(num_but_cat)}\")\n",
        "    return cat_cols, num_cols, cat_but_car\n",
        "\n",
        "cat_cols, num_cols, cat_but_car = grab_col_names(df)"
      ],
      "metadata": {
        "id": "RheuoeXpYVDf"
      },
      "execution_count": null,
      "outputs": []
    },
    {
      "cell_type": "markdown",
      "source": [
        "### 10. Veri Dönüştürme\n"
      ],
      "metadata": {
        "id": "W9dOus9cbDon"
      }
    },
    {
      "cell_type": "code",
      "source": [
        "# Kategorik değişkenler one-hot encoding ile dönüştürülmesi\n",
        "df = pd.get_dummies(df[cat_cols + num_cols], drop_first=True)\n",
        "df = df.loc[:, ~df.columns.str.contains('K.K.N')]\n",
        "\n",
        "# Boolean değişkenler sayısal hale getirilmesi\n",
        "bool_cols = [\"D_İ\", \"C_E\"]\n",
        "df[bool_cols] = df[bool_cols].astype(int)\n",
        "\n",
        "# Label Encoding işlemi uygulanması\n",
        "le = LabelEncoder()\n",
        "df['Ana K.N.'] = le.fit_transform(df['Ana K.N.'])"
      ],
      "metadata": {
        "id": "s15zHHA_YZtQ"
      },
      "execution_count": null,
      "outputs": []
    },
    {
      "cell_type": "markdown",
      "source": [
        "### 11. Model Eğitimi İçin Veri Hazırlığı\n"
      ],
      "metadata": {
        "id": "mrnLjvfMbGLK"
      }
    },
    {
      "cell_type": "code",
      "source": [
        "features = ['Ana K.N.','Yıl', 'Ay', 'CA_diff_30_1', 'CA_diff_60_30', 'CA_diff_90_60', 'CA_diff_180_90', 'log_CA_1', 'log_CA_30', 'log_CA_60', 'log_CA_90', 'log_CA_180', \"D_İ\", \"C_E\"]\n",
        "target = [\"CA_30\", \"CA_60\", \"CA_90\", \"CA_180\"]\n",
        "# Eksik olmayan veriler seçilmesi\n",
        "train_data = df.dropna(subset=target)\n",
        "X = train_data[features]\n",
        "y = train_data[target]\n",
        "\n",
        "# Veri eğitim ve test olarak bölünmesi\n",
        "X_train, X_test, y_train, y_test = train_test_split(X, y, test_size=0.2, random_state=42)"
      ],
      "metadata": {
        "id": "EbOlAXrjYcO7"
      },
      "execution_count": null,
      "outputs": []
    },
    {
      "cell_type": "markdown",
      "source": [
        "### 12. Model Eğitimi ve Değerlendirme\n"
      ],
      "metadata": {
        "id": "pOrFx3EwbHuB"
      }
    },
    {
      "cell_type": "code",
      "source": [
        "model = RandomForestRegressor(n_estimators=200, max_depth=10, max_features=\"sqrt\", min_samples_leaf=1, min_samples_split=2, random_state=42)\n",
        "model.fit(X_train, y_train)\n",
        "y_pred = model.predict(X_test)\n",
        "for i, col in enumerate(target):\n",
        "    print(f\"{col} için Model Performansı: R2 Skoru: {r2_score(y_test[col], y_pred[:, i]):.4f}\")\n"
      ],
      "metadata": {
        "id": "Cz3FxTePYBCV"
      },
      "execution_count": null,
      "outputs": []
    }
  ]
}
